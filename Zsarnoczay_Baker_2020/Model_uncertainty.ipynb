{
 "cells": [
  {
   "cell_type": "markdown",
   "metadata": {},
   "source": [
    "First, import some packages that we will need.\n",
    "\n",
    "Note that we import roka_bundled (i.e., the bundled version of the roka package that makes several parts of this calculation more convenient). I used the bundled version to make sure that the results are reproducible even if you have a more recent version of roka installed on your system."
   ]
  },
  {
   "cell_type": "code",
   "execution_count": 1,
   "metadata": {
    "ExecuteTime": {
     "end_time": "2020-03-14T01:31:31.987818Z",
     "start_time": "2020-03-14T01:31:31.982835Z"
    }
   },
   "outputs": [],
   "source": [
    "import numpy as np\n",
    "import pandas as pd\n",
    "\n",
    "import roka_bundled as roka\n",
    "\n",
    "# printing nice DataFrames\n",
    "from roka_bundled import show_df\n",
    "\n",
    "# calibration helper functions\n",
    "from roka_bundled import add_basic_features\n",
    "\n",
    "# units\n",
    "from roka_bundled import mm, mm2, MPa, GPa\n",
    "\n",
    "# classes for FEM analysis\n",
    "from roka_bundled import DemandProtocol, Steel4, BRB, Analysis"
   ]
  },
  {
   "cell_type": "markdown",
   "metadata": {},
   "source": [
    "## Candidate models\n",
    "Create a DataFrame with the parameters of the candidate models.\n",
    "In this example, we are working with a bilinear BRB model. We assume that E_0 and f_y are identified with sufficiently high accuracy, and the two unknown parameters are b_k (kinematic hardening) and b_i (isotropic hardening). Because the parameter b_i influences both cyclic and inelastic hardening, we will use b_pl = b_k + b_i for inelastic hardening to include both effects."
   ]
  },
  {
   "cell_type": "code",
   "execution_count": 2,
   "metadata": {
    "ExecuteTime": {
     "end_time": "2020-03-14T01:23:56.217081Z",
     "start_time": "2020-03-14T01:23:56.189179Z"
    }
   },
   "outputs": [
    {
     "data": {
      "text/html": [
       "<table border=\"1\" class=\"dataframe\">\n",
       "  <thead>\n",
       "    <tr style=\"text-align: right;\">\n",
       "      <th></th>\n",
       "      <th>b_pl</th>\n",
       "      <th>b_k</th>\n",
       "      <th>b_i</th>\n",
       "    </tr>\n",
       "  </thead>\n",
       "  <tbody>\n",
       "    <tr>\n",
       "      <th>1</th>\n",
       "      <td>0.006000</td>\n",
       "      <td>0.005400</td>\n",
       "      <td>0.000600</td>\n",
       "    </tr>\n",
       "    <tr>\n",
       "      <th>2</th>\n",
       "      <td>0.018974</td>\n",
       "      <td>0.018374</td>\n",
       "      <td>0.000600</td>\n",
       "    </tr>\n",
       "    <tr>\n",
       "      <th>3</th>\n",
       "      <td>0.060000</td>\n",
       "      <td>0.059400</td>\n",
       "      <td>0.000600</td>\n",
       "    </tr>\n",
       "    <tr>\n",
       "      <th>4</th>\n",
       "      <td>0.006000</td>\n",
       "      <td>0.004103</td>\n",
       "      <td>0.001897</td>\n",
       "    </tr>\n",
       "    <tr>\n",
       "      <th>5</th>\n",
       "      <td>0.018974</td>\n",
       "      <td>0.017076</td>\n",
       "      <td>0.001897</td>\n",
       "    </tr>\n",
       "  </tbody>\n",
       "</table>"
      ],
      "text/plain": [
       "<IPython.core.display.HTML object>"
      ]
     },
     "metadata": {},
     "output_type": "display_data"
    },
    {
     "data": {
      "text/html": [
       "<table border=\"1\" class=\"dataframe\">\n",
       "  <thead>\n",
       "    <tr style=\"text-align: right;\">\n",
       "      <th></th>\n",
       "      <th>b_pl</th>\n",
       "      <th>b_k</th>\n",
       "      <th>b_i</th>\n",
       "    </tr>\n",
       "  </thead>\n",
       "  <tbody>\n",
       "    <tr>\n",
       "      <th>5</th>\n",
       "      <td>0.018974</td>\n",
       "      <td>0.017076</td>\n",
       "      <td>0.001897</td>\n",
       "    </tr>\n",
       "    <tr>\n",
       "      <th>6</th>\n",
       "      <td>0.060000</td>\n",
       "      <td>0.058103</td>\n",
       "      <td>0.001897</td>\n",
       "    </tr>\n",
       "    <tr>\n",
       "      <th>7</th>\n",
       "      <td>0.006000</td>\n",
       "      <td>0.000000</td>\n",
       "      <td>0.006000</td>\n",
       "    </tr>\n",
       "    <tr>\n",
       "      <th>8</th>\n",
       "      <td>0.018974</td>\n",
       "      <td>0.012974</td>\n",
       "      <td>0.006000</td>\n",
       "    </tr>\n",
       "    <tr>\n",
       "      <th>9</th>\n",
       "      <td>0.060000</td>\n",
       "      <td>0.054000</td>\n",
       "      <td>0.006000</td>\n",
       "    </tr>\n",
       "  </tbody>\n",
       "</table>"
      ],
      "text/plain": [
       "<IPython.core.display.HTML object>"
      ]
     },
     "metadata": {},
     "output_type": "display_data"
    }
   ],
   "source": [
    "# specify the domain of interest\n",
    "b_pl_range = [0.006, 0.06]\n",
    "b_i_range = [0.0006, 0.006]\n",
    "\n",
    "# specify the level of discretization\n",
    "# 3 bins allow quick testing of this notebook\n",
    "# for serious calculations I suggest using at least 20 bins in each dimension\n",
    "b_pl_bins = 3\n",
    "b_i_bins = 3\n",
    "\n",
    "# generate the samples\n",
    "b_pl_list = np.logspace(np.log10(b_pl_range[0]), np.log10(b_pl_range[1]), num=b_pl_bins)\n",
    "b_i_list = np.logspace(np.log10(b_i_range[0]), np.log10(b_i_range[1]), num=b_i_bins)\n",
    "b_pl, b_i = np.meshgrid(b_pl_list, b_i_list)\n",
    "b_pl = b_pl.flatten()\n",
    "b_i = b_i.flatten()\n",
    "\n",
    "# get the value of b_k from b_pl given b_i\n",
    "b_k = b_pl - b_i\n",
    "\n",
    "# create the DataFrame for the candidates (note that we save the hyperparameter b_pl as well)\n",
    "candidates = pd.DataFrame({'b_pl':b_pl, 'b_k': b_k, 'b_i':b_i})\n",
    "candidates.index = candidates.index+1 #this is to make the index 1-based\n",
    "\n",
    "# take a quick look at the values to check if everything is OK\n",
    "show_df(candidates.head(5))\n",
    "show_df(candidates.tail(5))\n",
    "\n",
    "# save the candidates to an HDF5 file\n",
    "candidates.to_hdf('candidates.h5','data',mode='w')"
   ]
  },
  {
   "cell_type": "markdown",
   "metadata": {},
   "source": [
    "## Calibration methods\n",
    "\n",
    "### Force-based (curve-fitting)"
   ]
  },
  {
   "cell_type": "code",
   "execution_count": 3,
   "metadata": {
    "ExecuteTime": {
     "end_time": "2020-03-14T01:24:01.180236Z",
     "start_time": "2020-03-14T01:24:01.175253Z"
    }
   },
   "outputs": [],
   "source": [
    "def calibration_force(reference, simulation):\n",
    "    \"\"\"\n",
    "    Calculates the calibration error using the force-based, curve-fitting approach by minimizing the root-mean-squared error between the reference and simulation responses.\n",
    "    \n",
    "    Parameters\n",
    "    ----------\n",
    "    reference\n",
    "    \n",
    "    simulation\n",
    "\n",
    "    Returns\n",
    "    -------\n",
    "    eps_CAL\n",
    "\n",
    "    \"\"\"\n",
    "    \n",
    "    # calculate the error in force response\n",
    "    eps = reference['F'] - simulation['F']\n",
    "    \n",
    "    # the calibration error is defined as the root-mean-squared error\n",
    "    eps_CAL = np.sqrt(np.mean(eps**2.0))\n",
    "    \n",
    "    return eps_CAL"
   ]
  },
  {
   "cell_type": "markdown",
   "metadata": {},
   "source": [
    "### Stiffness-hardening based (BRB-specific)"
   ]
  },
  {
   "cell_type": "code",
   "execution_count": 4,
   "metadata": {
    "ExecuteTime": {
     "end_time": "2020-03-14T01:24:03.293332Z",
     "start_time": "2020-03-14T01:24:03.284330Z"
    }
   },
   "outputs": [],
   "source": [
    "def get_SH_features(response, K_lim=None):\n",
    "    \"\"\"\n",
    "    Calculates additional features needed for stiffness-hardening calibration. \n",
    "    \n",
    "    Assumes that the response data include characteristics extracted using the \n",
    "    calc_characteristics method.\n",
    "    \n",
    "    Parameters\n",
    "    ----------\n",
    "    response: DataFrame\n",
    "\n",
    "    Returns\n",
    "    -------\n",
    "    SH_features: Series\n",
    "\n",
    "    \"\"\"\n",
    "    features = dict()\n",
    "\n",
    "    # stiffness features are based on a subset of the response where tangent \n",
    "    # stiffness is below a certain threshold\n",
    "    if K_lim is not None:\n",
    "        K_list = response.index[response['K'].abs() < K_lim]\n",
    "    else:\n",
    "        K_list = response.index\n",
    "\n",
    "    # prepare two subsets to differentiate between positive and negative direction loading\n",
    "    K_plus = response.loc[K_list, 'load_dir'] == 1\n",
    "    K_minus = response.loc[K_list, 'load_dir'] == -1\n",
    "\n",
    "    # extract the features\n",
    "    features.update(dict([        \n",
    "        ('K_pos', np.mean(response.loc[K_list, 'K'][K_plus])),\n",
    "        ('K_neg', np.mean(response.loc[K_list, 'K'][K_minus])),\n",
    "        ('F_pos', np.mean(response.loc[K_list, 'F'][K_plus])),\n",
    "        ('F_neg', np.mean(response.loc[K_list, 'F'][K_minus])),        \n",
    "    ]))\n",
    "\n",
    "    return pd.Series(features)  \n",
    "\n",
    "def calibration_stiffness_hardening(reference_features, simulation_features):\n",
    "    \"\"\"\n",
    "    Calculates the calibration error using the stiffness-hardening-based approach. \n",
    "    \n",
    "    Assumes that both the reference and the simulation features are from the get_SH_features\n",
    "    method.\n",
    "    \n",
    "    Parameters\n",
    "    ----------\n",
    "    reference_features: Series\n",
    "    \n",
    "    simulation_features: Series\n",
    "\n",
    "    Returns\n",
    "    -------\n",
    "    eps_CAL\n",
    "\n",
    "    \"\"\"\n",
    "    \n",
    "    eps_CAL_S = np.log((simulation_features['K_pos']-simulation_features['K_neg']) / \n",
    "                   (reference_features['K_pos']-reference_features['K_neg']))\n",
    "    eps_CAL_H = np.log((simulation_features['F_pos']-simulation_features['F_neg']) / \n",
    "                   (reference_features['F_pos']-reference_features['F_neg']))\n",
    "    \n",
    "    eps_CAL = 2.0 * np.abs(eps_CAL_S) + np.abs(eps_CAL_H)\n",
    "    \n",
    "    return eps_CAL    "
   ]
  },
  {
   "cell_type": "markdown",
   "metadata": {},
   "source": [
    "## Quasi-static experiment"
   ]
  },
  {
   "cell_type": "code",
   "execution_count": 5,
   "metadata": {
    "ExecuteTime": {
     "end_time": "2020-03-14T01:25:15.109273Z",
     "start_time": "2020-03-14T01:25:15.103292Z"
    }
   },
   "outputs": [
    {
     "name": "stdout",
     "output_type": "stream",
     "text": [
      "[ 0.001 -0.001  0.002 -0.002  0.03  -0.03 ]\n"
     ]
    }
   ],
   "source": [
    "# uncomment the one you want to use\n",
    "\n",
    "# Standard load protocol\n",
    "# eps_list = np.array([ \n",
    "#    1., -1., 2., -2.,\n",
    "#    5., -5., 5., -5.,\n",
    "#    10.,-10.,10.,-10.,\n",
    "#    15.,-15.,15.,-15.,\n",
    "#    20.,-20.,20.,-20.,\n",
    "#    20.,-20.,20.,-20.,\n",
    "#    20.,-20.,20.,-20.,\n",
    "#    20.,-20.,20.,-20.])*mm\n",
    "\n",
    "# Pulse protocol\n",
    "eps_list = np.array([\n",
    "    1., -1.,  2., -2.,\n",
    "    30.,-30.])*mm\n",
    "\n",
    "dp = DemandProtocol(eps_list, )\n",
    "\n",
    "print(dp.demand_list)"
   ]
  },
  {
   "cell_type": "markdown",
   "metadata": {},
   "source": [
    "## Reference component & results\n",
    "### Create the reference BRB element"
   ]
  },
  {
   "cell_type": "code",
   "execution_count": 12,
   "metadata": {
    "ExecuteTime": {
     "end_time": "2020-03-14T01:25:50.985765Z",
     "start_time": "2020-03-14T01:25:50.980869Z"
    }
   },
   "outputs": [],
   "source": [
    "reference_component = BRB(1, \n",
    "                          l_tot=1.000, \n",
    "                          A_y=1000. * mm2, \n",
    "                          f_SM=1.00, \n",
    "                          f_DM=1.00, \n",
    "                          f_yd=235*MPa, \n",
    "                          gamma_ov=1.20)"
   ]
  },
  {
   "cell_type": "markdown",
   "metadata": {},
   "source": [
    "### Run the virtual quasi-static experiment"
   ]
  },
  {
   "cell_type": "code",
   "execution_count": 15,
   "metadata": {
    "ExecuteTime": {
     "end_time": "2020-03-14T01:29:33.176982Z",
     "start_time": "2020-03-14T01:29:31.940022Z"
    },
    "scrolled": false
   },
   "outputs": [
    {
     "data": {
      "text/html": [
       "<table border=\"1\" class=\"dataframe\">\n",
       "  <thead>\n",
       "    <tr style=\"text-align: right;\">\n",
       "      <th></th>\n",
       "      <th>eps</th>\n",
       "      <th>sig</th>\n",
       "      <th>d</th>\n",
       "      <th>F</th>\n",
       "    </tr>\n",
       "  </thead>\n",
       "  <tbody>\n",
       "    <tr>\n",
       "      <th>count</th>\n",
       "      <td>3403.000000</td>\n",
       "      <td>3.403000e+03</td>\n",
       "      <td>3403.000000</td>\n",
       "      <td>3403.000000</td>\n",
       "    </tr>\n",
       "    <tr>\n",
       "      <th>mean</th>\n",
       "      <td>0.004406</td>\n",
       "      <td>-7.712344e+07</td>\n",
       "      <td>3.281147</td>\n",
       "      <td>-0.273487</td>\n",
       "    </tr>\n",
       "    <tr>\n",
       "      <th>std</th>\n",
       "      <td>0.015667</td>\n",
       "      <td>2.847418e+08</td>\n",
       "      <td>11.667272</td>\n",
       "      <td>1.009723</td>\n",
       "    </tr>\n",
       "    <tr>\n",
       "      <th>min</th>\n",
       "      <td>-0.030000</td>\n",
       "      <td>-4.452707e+08</td>\n",
       "      <td>-22.340426</td>\n",
       "      <td>-1.578974</td>\n",
       "    </tr>\n",
       "    <tr>\n",
       "      <th>10%</th>\n",
       "      <td>-0.019794</td>\n",
       "      <td>-4.038856e+08</td>\n",
       "      <td>-14.740213</td>\n",
       "      <td>-1.432218</td>\n",
       "    </tr>\n",
       "    <tr>\n",
       "      <th>50%</th>\n",
       "      <td>0.004480</td>\n",
       "      <td>-1.843652e+08</td>\n",
       "      <td>3.336170</td>\n",
       "      <td>-0.653777</td>\n",
       "    </tr>\n",
       "    <tr>\n",
       "      <th>90%</th>\n",
       "      <td>0.024896</td>\n",
       "      <td>3.150694e+08</td>\n",
       "      <td>18.539574</td>\n",
       "      <td>1.117267</td>\n",
       "    </tr>\n",
       "    <tr>\n",
       "      <th>max</th>\n",
       "      <td>0.030000</td>\n",
       "      <td>3.312128e+08</td>\n",
       "      <td>22.340426</td>\n",
       "      <td>1.174514</td>\n",
       "    </tr>\n",
       "  </tbody>\n",
       "</table>"
      ],
      "text/plain": [
       "<IPython.core.display.HTML object>"
      ]
     },
     "metadata": {},
     "output_type": "display_data"
    }
   ],
   "source": [
    "# set the step size to a sufficiently small value to follow the transition from elastic to inelastic behavior\n",
    "# dp.step_size = eps_y/50. #![1] NameError: name 'eps_y' is not defined\n",
    "dp.step_size = 0.0015/50.   #![1] NameError: name 'eps_y' is not defined\n",
    "\n",
    "# perform the virtual quasi-static test\n",
    "reference_material = reference_component.material #![2]\n",
    "ref_response = Analysis().material_response(reference_material, dp) #![2] NameError: name 'reference_material' is not defined\n",
    "\n",
    "# calculate the normalized forces and displacements\n",
    "# reference_material = reference_component.material #![2]\n",
    "ref_response['d'] = ref_response['eps'] / reference_material.eps_y\n",
    "ref_response['F'] = ref_response['sig'] / reference_material.f_y\n",
    "\n",
    "# plot some stats of the reference response to quickly check if everything seems ok\n",
    "show_df(ref_response.describe([0.1, 0.5, 0.9]))"
   ]
  },
  {
   "cell_type": "markdown",
   "metadata": {},
   "source": [
    "### Get the features used in the relevant calibration"
   ]
  },
  {
   "cell_type": "code",
   "execution_count": 8,
   "metadata": {
    "ExecuteTime": {
     "end_time": "2020-03-14T01:31:07.342980Z",
     "start_time": "2020-03-14T01:31:07.036011Z"
    }
   },
   "outputs": [
    {
     "data": {
      "text/html": [
       "<table border=\"1\" class=\"dataframe\">\n",
       "  <thead>\n",
       "    <tr style=\"text-align: right;\">\n",
       "      <th></th>\n",
       "      <th>eps</th>\n",
       "      <th>sig</th>\n",
       "      <th>d</th>\n",
       "      <th>F</th>\n",
       "      <th>d_c</th>\n",
       "      <th>half_cycle</th>\n",
       "      <th>load_dir</th>\n",
       "      <th>K</th>\n",
       "      <th>E</th>\n",
       "      <th>E_c</th>\n",
       "    </tr>\n",
       "  </thead>\n",
       "  <tbody>\n",
       "    <tr>\n",
       "      <th>0</th>\n",
       "      <td>0.00000</td>\n",
       "      <td>0.000000e+00</td>\n",
       "      <td>0.000000</td>\n",
       "      <td>0.000000</td>\n",
       "      <td>0.000000</td>\n",
       "      <td>0</td>\n",
       "      <td>1.0</td>\n",
       "      <td>1.0</td>\n",
       "      <td>0.000000</td>\n",
       "      <td>0.000000</td>\n",
       "    </tr>\n",
       "    <tr>\n",
       "      <th>1</th>\n",
       "      <td>0.00003</td>\n",
       "      <td>6.300000e+06</td>\n",
       "      <td>0.022340</td>\n",
       "      <td>0.022340</td>\n",
       "      <td>0.022340</td>\n",
       "      <td>0</td>\n",
       "      <td>1.0</td>\n",
       "      <td>1.0</td>\n",
       "      <td>0.000250</td>\n",
       "      <td>0.000250</td>\n",
       "    </tr>\n",
       "    <tr>\n",
       "      <th>2</th>\n",
       "      <td>0.00006</td>\n",
       "      <td>1.260000e+07</td>\n",
       "      <td>0.044681</td>\n",
       "      <td>0.044681</td>\n",
       "      <td>0.044681</td>\n",
       "      <td>0</td>\n",
       "      <td>1.0</td>\n",
       "      <td>1.0</td>\n",
       "      <td>0.000998</td>\n",
       "      <td>0.000998</td>\n",
       "    </tr>\n",
       "    <tr>\n",
       "      <th>3</th>\n",
       "      <td>0.00009</td>\n",
       "      <td>1.890000e+07</td>\n",
       "      <td>0.067021</td>\n",
       "      <td>0.067021</td>\n",
       "      <td>0.067021</td>\n",
       "      <td>0</td>\n",
       "      <td>1.0</td>\n",
       "      <td>1.0</td>\n",
       "      <td>0.002246</td>\n",
       "      <td>0.002246</td>\n",
       "    </tr>\n",
       "    <tr>\n",
       "      <th>4</th>\n",
       "      <td>0.00012</td>\n",
       "      <td>2.520000e+07</td>\n",
       "      <td>0.089362</td>\n",
       "      <td>0.089362</td>\n",
       "      <td>0.089362</td>\n",
       "      <td>0</td>\n",
       "      <td>1.0</td>\n",
       "      <td>1.0</td>\n",
       "      <td>0.003993</td>\n",
       "      <td>0.003993</td>\n",
       "    </tr>\n",
       "  </tbody>\n",
       "</table>"
      ],
      "text/plain": [
       "<IPython.core.display.HTML object>"
      ]
     },
     "metadata": {},
     "output_type": "display_data"
    },
    {
     "data": {
      "text/html": [
       "<table border=\"1\" class=\"dataframe\">\n",
       "  <thead>\n",
       "    <tr style=\"text-align: right;\">\n",
       "      <th></th>\n",
       "      <th>0</th>\n",
       "    </tr>\n",
       "  </thead>\n",
       "  <tbody>\n",
       "    <tr>\n",
       "      <th>K_pos</th>\n",
       "      <td>0.011697</td>\n",
       "    </tr>\n",
       "    <tr>\n",
       "      <th>K_neg</th>\n",
       "      <td>-0.027985</td>\n",
       "    </tr>\n",
       "    <tr>\n",
       "      <th>F_pos</th>\n",
       "      <td>1.090205</td>\n",
       "    </tr>\n",
       "    <tr>\n",
       "      <th>F_neg</th>\n",
       "      <td>-1.089978</td>\n",
       "    </tr>\n",
       "  </tbody>\n",
       "</table>"
      ],
      "text/plain": [
       "<IPython.core.display.HTML object>"
      ]
     },
     "metadata": {},
     "output_type": "display_data"
    }
   ],
   "source": [
    "# extract some basic features from the F-d response data\n",
    "ref_response = add_basic_features(ref_response)\n",
    "show_df(ref_response.head())\n",
    "\n",
    "# get the stiffness-hardening features\n",
    "ref_features = get_SH_features(ref_response, K_lim=0.1)\n",
    "show_df(ref_features)"
   ]
  },
  {
   "cell_type": "markdown",
   "metadata": {},
   "source": [
    "## Simulation components & results"
   ]
  },
  {
   "cell_type": "code",
   "execution_count": 9,
   "metadata": {
    "ExecuteTime": {
     "end_time": "2020-03-14T01:32:34.093485Z",
     "start_time": "2020-03-14T01:32:34.088502Z"
    }
   },
   "outputs": [],
   "source": [
    "def make_bilin_material(b_k, b_i, f_y, E_0, **kwargs):\n",
    "    \n",
    "    material = Steel4(\n",
    "        1, non_sym=False, kin=True, iso=True, ult=False,\n",
    "        f_y=f_y, E_0=E_0, b_k=b_k, b_i=b_i,\n",
    "        # the following parameters are only needed to make the response bilinear\n",
    "        R_0=50., r_1=0.05, rho_i=1.0, b_l=b_i, l_yp=0., R_u=50.)\n",
    "    \n",
    "    return material"
   ]
  },
  {
   "cell_type": "markdown",
   "metadata": {},
   "source": [
    "### Calibration error in quasi-static tests"
   ]
  },
  {
   "cell_type": "code",
   "execution_count": 10,
   "metadata": {
    "ExecuteTime": {
     "end_time": "2020-03-14T01:40:28.909467Z",
     "start_time": "2020-03-14T01:40:14.935211Z"
    }
   },
   "outputs": [
    {
     "name": "stdout",
     "output_type": "stream",
     "text": [
      "1 2 3 4 5 6 7 8 9 \n"
     ]
    },
    {
     "data": {
      "text/html": [
       "<table border=\"1\" class=\"dataframe\">\n",
       "  <thead>\n",
       "    <tr style=\"text-align: right;\">\n",
       "      <th></th>\n",
       "      <th>eps_CAL_F</th>\n",
       "      <th>eps_CAL_SH</th>\n",
       "    </tr>\n",
       "  </thead>\n",
       "  <tbody>\n",
       "    <tr>\n",
       "      <th>count</th>\n",
       "      <td>9.000000</td>\n",
       "      <td>9.000000</td>\n",
       "    </tr>\n",
       "    <tr>\n",
       "      <th>mean</th>\n",
       "      <td>0.285889</td>\n",
       "      <td>1.636150</td>\n",
       "    </tr>\n",
       "    <tr>\n",
       "      <th>std</th>\n",
       "      <td>0.157991</td>\n",
       "      <td>1.131292</td>\n",
       "    </tr>\n",
       "    <tr>\n",
       "      <th>min</th>\n",
       "      <td>0.121140</td>\n",
       "      <td>0.085188</td>\n",
       "    </tr>\n",
       "    <tr>\n",
       "      <th>25%</th>\n",
       "      <td>0.188286</td>\n",
       "      <td>0.191509</td>\n",
       "    </tr>\n",
       "    <tr>\n",
       "      <th>50%</th>\n",
       "      <td>0.210726</td>\n",
       "      <td>2.335185</td>\n",
       "    </tr>\n",
       "    <tr>\n",
       "      <th>75%</th>\n",
       "      <td>0.482336</td>\n",
       "      <td>2.410955</td>\n",
       "    </tr>\n",
       "    <tr>\n",
       "      <th>max</th>\n",
       "      <td>0.501790</td>\n",
       "      <td>2.487178</td>\n",
       "    </tr>\n",
       "  </tbody>\n",
       "</table>"
      ],
      "text/plain": [
       "<IPython.core.display.HTML object>"
      ]
     },
     "metadata": {},
     "output_type": "display_data"
    }
   ],
   "source": [
    "# load the parameters of the candidate models (we saved them earlier)\n",
    "candidates = pd.read_hdf('candidates.h5','data')\n",
    "\n",
    "# initialize the database to store the calibration error values\n",
    "eps_CAL_df = pd.DataFrame(columns=['eps_CAL_F','eps_CAL_SH'], \n",
    "                          index=candidates.index, dtype=np.float)\n",
    "\n",
    "# load the basic parameters of the reference material\n",
    "# we will use these to normalize the F-d response below\n",
    "f_y_ref = reference_material.f_y\n",
    "eps_y_ref = reference_material.eps_y\n",
    "E_0_ref = reference_material.E_0\n",
    "\n",
    "# perform the simulation of the quasi-static test with each model\n",
    "for sim_id in candidates.index.values:\n",
    "    \n",
    "    print(sim_id, end = ' ')\n",
    "    \n",
    "    # create the material using the candidate model's parameters\n",
    "    sim_material = make_bilin_material(**candidates.loc[sim_id], \n",
    "                                       f_y=f_y_ref, E_0=E_0_ref)\n",
    "    \n",
    "    # note that the step size for dp has already been set earlier\n",
    "    # keeping the same step size facilitates the comparison of reference and simulation data\n",
    "    sim_response = Analysis().material_response(sim_material, dp)\n",
    "    \n",
    "    # normalize the response\n",
    "    sim_response['d'] = sim_response['eps'] / eps_y_ref\n",
    "    sim_response['F'] = sim_response['sig'] / f_y_ref\n",
    "    \n",
    "    # extract some basic features from the F-d response data\n",
    "    sim_response = add_basic_features(sim_response)\n",
    "    \n",
    "    # get the stiffness-hardening features\n",
    "    sim_features = get_SH_features(sim_response, K_lim=0.1)\n",
    "    \n",
    "    # calculate the force-based calibration error\n",
    "    eps_CAL_df.loc[sim_id,'eps_CAL_F'] = calibration_force(ref_response, sim_response)\n",
    "    \n",
    "    # calculate the stiffness-hardening based calibration error\n",
    "    eps_CAL_df.loc[sim_id,'eps_CAL_SH'] = calibration_stiffness_hardening(ref_features, sim_features)\n",
    "\n",
    "print()\n",
    "# review the calibration error dataframe\n",
    "show_df(eps_CAL_df.describe())"
   ]
  },
  {
   "cell_type": "markdown",
   "metadata": {},
   "source": [
    "### Error in drifts in dynamic tests"
   ]
  },
  {
   "cell_type": "code",
   "execution_count": 11,
   "metadata": {
    "ExecuteTime": {
     "end_time": "2020-03-14T01:40:46.406106Z",
     "start_time": "2020-03-14T01:40:46.403089Z"
    }
   },
   "outputs": [],
   "source": [
    "# coming soon..."
   ]
  },
  {
   "cell_type": "code",
   "execution_count": null,
   "metadata": {},
   "outputs": [],
   "source": []
  }
 ],
 "metadata": {
  "kernelspec": {
   "display_name": "Python 3",
   "language": "python",
   "name": "python3"
  },
  "language_info": {
   "codemirror_mode": {
    "name": "ipython",
    "version": 3
   },
   "file_extension": ".py",
   "mimetype": "text/x-python",
   "name": "python",
   "nbconvert_exporter": "python",
   "pygments_lexer": "ipython3",
   "version": "3.7.6"
  },
  "toc": {
   "base_numbering": 1,
   "nav_menu": {},
   "number_sections": true,
   "sideBar": true,
   "skip_h1_title": false,
   "title_cell": "Table of Contents",
   "title_sidebar": "Contents",
   "toc_cell": false,
   "toc_position": {},
   "toc_section_display": true,
   "toc_window_display": false
  }
 },
 "nbformat": 4,
 "nbformat_minor": 4
}
